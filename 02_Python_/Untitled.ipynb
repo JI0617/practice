{
 "cells": [
  {
   "cell_type": "code",
   "execution_count": 20,
   "id": "48fbd677-7e37-45fd-a81d-06bc412ddb90",
   "metadata": {},
   "outputs": [
    {
     "name": "stdout",
     "output_type": "stream",
     "text": [
      "Hello\n",
      "Hello\n"
     ]
    }
   ],
   "source": [
    "x=[1, 3, 5, 7, 9]\n",
    "for i in range(len(x)) :\n",
    "    if x[i]%3==0 :\n",
    "        print(\"Hello\")"
   ]
  },
  {
   "cell_type": "markdown",
   "id": "af89b89c-e115-4b7d-a4e3-09b552f76377",
   "metadata": {},
   "source": [
    "# 명령 모드\n",
    "- a : 위에 빈 cell을 **추가**\n",
    "- b : 아래 빈 cell을 *추가*"
   ]
  },
  {
   "cell_type": "code",
   "execution_count": null,
   "id": "20ba3e9b-05cb-4cf8-b68c-0a3458285b25",
   "metadata": {},
   "outputs": [],
   "source": []
  }
 ],
 "metadata": {
  "kernelspec": {
   "display_name": "Python 3 (ipykernel)",
   "language": "python",
   "name": "python3"
  },
  "language_info": {
   "codemirror_mode": {
    "name": "ipython",
    "version": 3
   },
   "file_extension": ".py",
   "mimetype": "text/x-python",
   "name": "python",
   "nbconvert_exporter": "python",
   "pygments_lexer": "ipython3",
   "version": "3.12.9"
  }
 },
 "nbformat": 4,
 "nbformat_minor": 5
}
